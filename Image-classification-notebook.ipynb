{
 "cells": [
  {
   "cell_type": "code",
   "execution_count": 1,
   "id": "df7a0570",
   "metadata": {
    "_cell_guid": "b1076dfc-b9ad-4769-8c92-a6c4dae69d19",
    "_uuid": "8f2839f25d086af736a60e9eeb907d3b93b6e0e5",
    "execution": {
     "iopub.execute_input": "2023-05-31T08:55:46.939022Z",
     "iopub.status.busy": "2023-05-31T08:55:46.938062Z",
     "iopub.status.idle": "2023-05-31T08:55:56.188151Z",
     "shell.execute_reply": "2023-05-31T08:55:56.187037Z"
    },
    "papermill": {
     "duration": 9.260917,
     "end_time": "2023-05-31T08:55:56.191336",
     "exception": false,
     "start_time": "2023-05-31T08:55:46.930419",
     "status": "completed"
    },
    "tags": []
   },
   "outputs": [
    {
     "name": "stderr",
     "output_type": "stream",
     "text": [
      "/opt/conda/lib/python3.10/site-packages/tensorflow_io/python/ops/__init__.py:98: UserWarning: unable to load libtensorflow_io_plugins.so: unable to open file: libtensorflow_io_plugins.so, from paths: ['/opt/conda/lib/python3.10/site-packages/tensorflow_io/python/ops/libtensorflow_io_plugins.so']\n",
      "caused by: ['/opt/conda/lib/python3.10/site-packages/tensorflow_io/python/ops/libtensorflow_io_plugins.so: undefined symbol: _ZN3tsl6StatusC1EN10tensorflow5error4CodeESt17basic_string_viewIcSt11char_traitsIcEENS_14SourceLocationE']\n",
      "  warnings.warn(f\"unable to load libtensorflow_io_plugins.so: {e}\")\n",
      "/opt/conda/lib/python3.10/site-packages/tensorflow_io/python/ops/__init__.py:104: UserWarning: file system plugins are not loaded: unable to open file: libtensorflow_io.so, from paths: ['/opt/conda/lib/python3.10/site-packages/tensorflow_io/python/ops/libtensorflow_io.so']\n",
      "caused by: ['/opt/conda/lib/python3.10/site-packages/tensorflow_io/python/ops/libtensorflow_io.so: undefined symbol: _ZTVN10tensorflow13GcsFileSystemE']\n",
      "  warnings.warn(f\"file system plugins are not loaded: {e}\")\n"
     ]
    }
   ],
   "source": [
    "#importuri\n",
    "import numpy as np\n",
    "import pandas as pd\n",
    "import matplotlib.pyplot as plt\n",
    "import seaborn as sns\n",
    "import collections\n",
    "import imageio.v3 as iio\n",
    "from sklearn.metrics import confusion_matrix, classification_report,accuracy_score\n",
    "from keras.preprocessing.image import ImageDataGenerator\n",
    "from keras.models import Sequential, Model, load_model\n",
    "from keras.layers import Activation, Dropout, Flatten, Dense,Conv2D, MaxPooling2D\n",
    "from keras.callbacks import EarlyStopping, ReduceLROnPlateau\n",
    "from tensorflow.keras.utils import to_categorical\n",
    "from keras.applications.densenet import DenseNet121\n",
    "import tensorflow as tf\n",
    "from sklearn.utils import class_weight\n",
    "from keras import regularizers\n",
    "from sklearn.model_selection import GridSearchCV"
   ]
  },
  {
   "cell_type": "code",
   "execution_count": 2,
   "id": "4a271ea1",
   "metadata": {
    "execution": {
     "iopub.execute_input": "2023-05-31T08:55:56.209926Z",
     "iopub.status.busy": "2023-05-31T08:55:56.208998Z",
     "iopub.status.idle": "2023-05-31T08:55:56.659581Z",
     "shell.execute_reply": "2023-05-31T08:55:56.658660Z"
    },
    "papermill": {
     "duration": 0.463319,
     "end_time": "2023-05-31T08:55:56.662048",
     "exception": false,
     "start_time": "2023-05-31T08:55:56.198729",
     "status": "completed"
    },
    "tags": []
   },
   "outputs": [
    {
     "data": {
      "text/html": [
       "<div>\n",
       "<style scoped>\n",
       "    .dataframe tbody tr th:only-of-type {\n",
       "        vertical-align: middle;\n",
       "    }\n",
       "\n",
       "    .dataframe tbody tr th {\n",
       "        vertical-align: top;\n",
       "    }\n",
       "\n",
       "    .dataframe thead th {\n",
       "        text-align: right;\n",
       "    }\n",
       "</style>\n",
       "<table border=\"1\" class=\"dataframe\">\n",
       "  <thead>\n",
       "    <tr style=\"text-align: right;\">\n",
       "      <th></th>\n",
       "      <th>Image</th>\n",
       "      <th>Class</th>\n",
       "    </tr>\n",
       "  </thead>\n",
       "  <tbody>\n",
       "    <tr>\n",
       "      <th>0</th>\n",
       "      <td>12953.png</td>\n",
       "      <td>38</td>\n",
       "    </tr>\n",
       "    <tr>\n",
       "      <th>1</th>\n",
       "      <td>02978.png</td>\n",
       "      <td>76</td>\n",
       "    </tr>\n",
       "    <tr>\n",
       "      <th>2</th>\n",
       "      <td>10718.png</td>\n",
       "      <td>18</td>\n",
       "    </tr>\n",
       "    <tr>\n",
       "      <th>3</th>\n",
       "      <td>01916.png</td>\n",
       "      <td>16</td>\n",
       "    </tr>\n",
       "    <tr>\n",
       "      <th>4</th>\n",
       "      <td>15254.png</td>\n",
       "      <td>53</td>\n",
       "    </tr>\n",
       "  </tbody>\n",
       "</table>\n",
       "</div>"
      ],
      "text/plain": [
       "       Image  Class\n",
       "0  12953.png     38\n",
       "1  02978.png     76\n",
       "2  10718.png     18\n",
       "3  01916.png     16\n",
       "4  15254.png     53"
      ]
     },
     "metadata": {},
     "output_type": "display_data"
    },
    {
     "data": {
      "image/png": "[encoded data removed]",
      "text/plain": [
       "<Figure size 640x480 with 1 Axes>"
      ]
     },
     "metadata": {},
     "output_type": "display_data"
    }
   ],
   "source": [
    "#Load data\n",
    "path = \"/kaggle/input/unibuc-ml-202325/\"\n",
    "train_csv = pd.read_csv(path + \"train.csv\")\n",
    "val_csv = pd.read_csv(path + \"val.csv\")\n",
    "test_csv = pd.read_csv(path + \"test.csv\")\n",
    "\n",
    "#Extracting data\n",
    "y_train = np.array(train_csv['Class'])\n",
    "y_val = np.array(val_csv['Class'])\n",
    "\n",
    "#Convrtim la one-hot-encoded\n",
    "y_train_encoded = to_categorical(y_train, num_classes=96)\n",
    "y_val_encoded = to_categorical(y_val, num_classes=96)\n",
    "\n",
    "display(train_csv.head())\n",
    "#Vizualizam datele pe care urmeaza sa fie antrenat modelul\n",
    "plt.hist(x = train_csv['Class'],bins = 96)\n",
    "plt.show()"
   ]
  },
  {
   "cell_type": "code",
   "execution_count": 3,
   "id": "1659378c",
   "metadata": {
    "execution": {
     "iopub.execute_input": "2023-05-31T08:55:56.675615Z",
     "iopub.status.busy": "2023-05-31T08:55:56.675334Z",
     "iopub.status.idle": "2023-05-31T08:55:56.684977Z",
     "shell.execute_reply": "2023-05-31T08:55:56.684120Z"
    },
    "papermill": {
     "duration": 0.018649,
     "end_time": "2023-05-31T08:55:56.686891",
     "exception": false,
     "start_time": "2023-05-31T08:55:56.668242",
     "status": "completed"
    },
    "tags": []
   },
   "outputs": [
    {
     "name": "stdout",
     "output_type": "stream",
     "text": [
      "[(27, 350), (38, 239), (81, 232)]\n",
      "[(27, 36), (38, 22), (20, 15)]\n"
     ]
    }
   ],
   "source": [
    "#Vizualizam clasele de imagini care au frecventa cea mai mare\n",
    "frequency_list_train = collections.Counter(train_csv['Class'])\n",
    "print(frequency_list_train.most_common(3))\n",
    "\n",
    "frequency_list_val = collections.Counter(val_csv['Class'])\n",
    "print(frequency_list_val.most_common(3))"
   ]
  },
  {
   "cell_type": "markdown",
   "id": "33edd2f5",
   "metadata": {
    "papermill": {
     "duration": 0.005938,
     "end_time": "2023-05-31T08:55:56.699148",
     "exception": false,
     "start_time": "2023-05-31T08:55:56.693210",
     "status": "completed"
    },
    "tags": []
   },
   "source": [
    "**Load X_train, X_val, X_test, apoi convertim la numpy-arrays**"
   ]
  },
  {
   "cell_type": "code",
   "execution_count": 4,
   "id": "216a8f2b",
   "metadata": {
    "execution": {
     "iopub.execute_input": "2023-05-31T08:55:56.713655Z",
     "iopub.status.busy": "2023-05-31T08:55:56.712292Z",
     "iopub.status.idle": "2023-05-31T08:57:32.875991Z",
     "shell.execute_reply": "2023-05-31T08:57:32.875031Z"
    },
    "papermill": {
     "duration": 96.17329,
     "end_time": "2023-05-31T08:57:32.878518",
     "exception": false,
     "start_time": "2023-05-31T08:55:56.705228",
     "status": "completed"
    },
    "tags": []
   },
   "outputs": [],
   "source": [
    "# Load validation images\n",
    "X_val = np.array([iio.imread(path + \"val_images/\" + image) for image in val_csv['Image']])\n",
    "\n",
    "# Load training images\n",
    "X_train = np.array([iio.imread(path + \"train_images/\" + image) for image in train_csv['Image']])\n",
    "\n",
    "# Load test images\n",
    "X_test = np.array([iio.imread(path + \"test_images/\" + image) for image in test_csv['Image']])"
   ]
  },
  {
   "cell_type": "markdown",
   "id": "44f7af95",
   "metadata": {
    "papermill": {
     "duration": 0.005971,
     "end_time": "2023-05-31T08:57:32.891054",
     "exception": false,
     "start_time": "2023-05-31T08:57:32.885083",
     "status": "completed"
    },
    "tags": []
   },
   "source": [
    "**Normalizam datele inainte de a fi folosite **"
   ]
  },
  {
   "cell_type": "code",
   "execution_count": 5,
   "id": "4cdbe8e7",
   "metadata": {
    "execution": {
     "iopub.execute_input": "2023-05-31T08:57:32.905786Z",
     "iopub.status.busy": "2023-05-31T08:57:32.904270Z",
     "iopub.status.idle": "2023-05-31T08:57:35.357555Z",
     "shell.execute_reply": "2023-05-31T08:57:35.356352Z"
    },
    "papermill": {
     "duration": 2.466283,
     "end_time": "2023-05-31T08:57:35.363388",
     "exception": false,
     "start_time": "2023-05-31T08:57:32.897105",
     "status": "completed"
    },
    "tags": []
   },
   "outputs": [],
   "source": [
    "from sklearn import preprocessing\n",
    "\n",
    "# Reshape pentru a obtine vectori cu shape-ul - numar_de_sample-uri si features\n",
    "X_train_reshaped = X_train.reshape(X_train.shape[0], -1)\n",
    "X_val_reshaped = X_val.reshape(X_val.shape[0], -1)\n",
    "X_test_reshaped = X_test.reshape(X_test.shape[0], -1)\n",
    "\n",
    "# Creem un obiect de tip StandardScaler\n",
    "scaler = preprocessing.StandardScaler()\n",
    "\n",
    "# Sclare fit\n",
    "scaler.fit(X_train_reshaped)\n",
    "\n",
    "# Normlizam datele\n",
    "X_train_normalized = scaler.transform(X_train_reshaped)\n",
    "X_val_normalized = scaler.transform(X_val_reshaped)\n",
    "X_test_normalized = scaler.transform(X_test_reshaped)\n",
    "\n",
    "# Reshape pentru a aduce datele la forma initiala\n",
    "X_train_normalized = X_train_normalized.reshape(X_train.shape)\n",
    "X_val_normalized = X_val_normalized.reshape(X_val.shape)\n",
    "X_test_normalized = X_test_normalized.reshape(X_test.shape)\n"
   ]
  },
  {
   "cell_type": "code",
   "execution_count": 6,
   "id": "79e7c53c",
   "metadata": {
    "execution": {
     "iopub.execute_input": "2023-05-31T08:57:35.383059Z",
     "iopub.status.busy": "2023-05-31T08:57:35.382719Z",
     "iopub.status.idle": "2023-05-31T08:57:35.388808Z",
     "shell.execute_reply": "2023-05-31T08:57:35.387731Z"
    },
    "papermill": {
     "duration": 0.018951,
     "end_time": "2023-05-31T08:57:35.391214",
     "exception": false,
     "start_time": "2023-05-31T08:57:35.372263",
     "status": "completed"
    },
    "tags": []
   },
   "outputs": [],
   "source": [
    "width, height = X_train[0].shape[:2]\n",
    "train_samples_no = len(X_train)\n",
    "val_samples_no = len(X_val)\n",
    "epochs = 100\n",
    "batch_size = 50\n",
    "n_classes = len(frequency_list_train)\n",
    "early_stop = EarlyStopping(monitor='val_loss', patience=10, verbose=1, min_delta=1e-4)\n",
    "reduce_lr = ReduceLROnPlateau(monitor='val_loss', factor=0.1, patience=5, verbose=1, min_delta=1e-4)"
   ]
  },
  {
   "cell_type": "code",
   "execution_count": 7,
   "id": "0baa5879",
   "metadata": {
    "execution": {
     "iopub.execute_input": "2023-05-31T08:57:35.405241Z",
     "iopub.status.busy": "2023-05-31T08:57:35.404375Z",
     "iopub.status.idle": "2023-05-31T08:57:35.641971Z",
     "shell.execute_reply": "2023-05-31T08:57:35.641004Z"
    },
    "papermill": {
     "duration": 0.247134,
     "end_time": "2023-05-31T08:57:35.644531",
     "exception": false,
     "start_time": "2023-05-31T08:57:35.397397",
     "status": "completed"
    },
    "tags": []
   },
   "outputs": [],
   "source": [
    "train_datagen = ImageDataGenerator(\n",
    "    rotation_range=10,\n",
    "    #width_shift_range=0.1,\n",
    "    #height_shift_range=0.1,\n",
    "    #brightness_range=[0.8, 1.2],\n",
    "    zoom_range=0.2,\n",
    "    horizontal_flip=True\n",
    ")\n",
    "\n",
    "train_generator = train_datagen.flow(\n",
    "    X_train_normalized,\n",
    "    y_train_encoded,  # provide the target data\n",
    "    batch_size=batch_size,\n",
    "    shuffle=True\n",
    ")\n",
    "\n",
    "\n",
    "val_datagen = ImageDataGenerator()\n",
    "\n",
    "val_generator = val_datagen.flow(\n",
    "    X_val_normalized,\n",
    "    y_val_encoded,  # provide the target data\n",
    "    batch_size=batch_size\n",
    ")"
   ]
  },
  {
   "cell_type": "code",
   "execution_count": 8,
   "id": "15b13a5b",
   "metadata": {
    "execution": {
     "iopub.execute_input": "2023-05-31T08:57:35.658681Z",
     "iopub.status.busy": "2023-05-31T08:57:35.658396Z",
     "iopub.status.idle": "2023-05-31T08:57:35.666493Z",
     "shell.execute_reply": "2023-05-31T08:57:35.665695Z"
    },
    "papermill": {
     "duration": 0.017354,
     "end_time": "2023-05-31T08:57:35.668549",
     "exception": false,
     "start_time": "2023-05-31T08:57:35.651195",
     "status": "completed"
    },
    "tags": []
   },
   "outputs": [],
   "source": [
    "def build_model():\n",
    "    model = Sequential()\n",
    "    model.add(DenseNet121(include_top=False, pooling='avg', weights=None))\n",
    "    model.add(Dense(2500, kernel_regularizer=regularizers.l2(0.01)))\n",
    "    model.add(Activation('relu'))\n",
    "    model.add(Dense(1000, kernel_regularizer=regularizers.l2(0.01)))\n",
    "    model.add(Activation('relu'))\n",
    "    model.add(Dense(n_classes, activation='softmax'))\n",
    "\n",
    "    for layer in model.layers[0].layers:\n",
    "        layer.trainable = True\n",
    "    \n",
    "    return model"
   ]
  },
  {
   "cell_type": "code",
   "execution_count": 9,
   "id": "f53b50ab",
   "metadata": {
    "execution": {
     "iopub.execute_input": "2023-05-31T08:57:35.681752Z",
     "iopub.status.busy": "2023-05-31T08:57:35.681493Z",
     "iopub.status.idle": "2023-05-31T08:57:35.691239Z",
     "shell.execute_reply": "2023-05-31T08:57:35.690373Z"
    },
    "papermill": {
     "duration": 0.018908,
     "end_time": "2023-05-31T08:57:35.693559",
     "exception": false,
     "start_time": "2023-05-31T08:57:35.674651",
     "status": "completed"
    },
    "tags": []
   },
   "outputs": [],
   "source": [
    "# Calculate class weights\n",
    "class_weights = class_weight.compute_class_weight('balanced', classes = np.unique(y_train), y = y_train)\n",
    "\n",
    "# Convert class weights to a dictionary\n",
    "class_weights_dict = dict(enumerate(class_weights))"
   ]
  },
  {
   "cell_type": "code",
   "execution_count": 10,
   "id": "53443dc8",
   "metadata": {
    "execution": {
     "iopub.execute_input": "2023-05-31T08:57:35.707491Z",
     "iopub.status.busy": "2023-05-31T08:57:35.707212Z",
     "iopub.status.idle": "2023-05-31T08:57:42.130404Z",
     "shell.execute_reply": "2023-05-31T08:57:42.129456Z"
    },
    "papermill": {
     "duration": 6.432538,
     "end_time": "2023-05-31T08:57:42.132848",
     "exception": false,
     "start_time": "2023-05-31T08:57:35.700310",
     "status": "completed"
    },
    "tags": []
   },
   "outputs": [],
   "source": [
    "model = build_model()\n",
    "model.compile(loss='categorical_crossentropy', optimizer='adam', metrics=['acc'])"
   ]
  },
  {
   "cell_type": "code",
   "execution_count": 11,
   "id": "e58c59e1",
   "metadata": {
    "execution": {
     "iopub.execute_input": "2023-05-31T08:57:42.146888Z",
     "iopub.status.busy": "2023-05-31T08:57:42.146566Z",
     "iopub.status.idle": "2023-05-31T08:57:42.153987Z",
     "shell.execute_reply": "2023-05-31T08:57:42.153015Z"
    },
    "papermill": {
     "duration": 0.017112,
     "end_time": "2023-05-31T08:57:42.156363",
     "exception": false,
     "start_time": "2023-05-31T08:57:42.139251",
     "status": "completed"
    },
    "tags": []
   },
   "outputs": [
    {
     "data": {
      "text/plain": [
       "\"# Define the parameter grid\\nparam_grid = {\\n    'learning_rate': [0.001, 0.01, 0.1],\\n    'batch_size': [32, 64, 128]\\n}\\n\\n# Create the grid search object\\ngrid_search = GridSearchCV(model, param_grid, cv=3)\\n\\n# Perform the grid search\\ngrid_search.fit(X_train_normalized, y_train_encoded)\\n\\n# Get the best hyperparameters\\nbest_params = grid_search.best_params_\""
      ]
     },
     "execution_count": 11,
     "metadata": {},
     "output_type": "execute_result"
    }
   ],
   "source": [
    "\"\"\"# Define the parameter grid\n",
    "param_grid = {\n",
    "    'learning_rate': [0.001, 0.01, 0.1],\n",
    "    'batch_size': [32, 64, 128]\n",
    "}\n",
    "\n",
    "# Create the grid search object\n",
    "grid_search = GridSearchCV(model, param_grid, cv=3)\n",
    "\n",
    "# Perform the grid search\n",
    "grid_search.fit(X_train_normalized, y_train_encoded)\n",
    "\n",
    "# Get the best hyperparameters\n",
    "best_params = grid_search.best_params_\"\"\""
   ]
  },
  {
   "cell_type": "code",
   "execution_count": 12,
   "id": "36e58439",
   "metadata": {
    "execution": {
     "iopub.execute_input": "2023-05-31T08:57:42.169859Z",
     "iopub.status.busy": "2023-05-31T08:57:42.169575Z",
     "iopub.status.idle": "2023-05-31T09:29:44.566074Z",
     "shell.execute_reply": "2023-05-31T09:29:44.564886Z"
    },
    "papermill": {
     "duration": 1922.407361,
     "end_time": "2023-05-31T09:29:44.569918",
     "exception": false,
     "start_time": "2023-05-31T08:57:42.162557",
     "status": "completed"
    },
    "tags": []
   },
   "outputs": [
    {
     "name": "stdout",
     "output_type": "stream",
     "text": [
      "Epoch 1/100\n",
      "240/240 [==============================] - 105s 115ms/step - loss: 6.3313 - acc: 0.1121 - val_loss: 4.4023 - val_acc: 0.1290 - lr: 0.0010\n",
      "Epoch 2/100\n",
      "240/240 [==============================] - 26s 108ms/step - loss: 2.9238 - acc: 0.2492 - val_loss: 2.7002 - val_acc: 0.3130 - lr: 0.0010\n",
      "Epoch 3/100\n",
      "240/240 [==============================] - 25s 103ms/step - loss: 2.4244 - acc: 0.3587 - val_loss: 2.4850 - val_acc: 0.3420 - lr: 0.0010\n",
      "Epoch 4/100\n",
      "240/240 [==============================] - 26s 106ms/step - loss: 2.1106 - acc: 0.4318 - val_loss: 2.3518 - val_acc: 0.3780 - lr: 0.0010\n",
      "Epoch 5/100\n",
      "240/240 [==============================] - 26s 106ms/step - loss: 1.8318 - acc: 0.5091 - val_loss: 1.7450 - val_acc: 0.5320 - lr: 0.0010\n",
      "Epoch 6/100\n",
      "240/240 [==============================] - 24s 100ms/step - loss: 1.6526 - acc: 0.5527 - val_loss: 1.9107 - val_acc: 0.5060 - lr: 0.0010\n",
      "Epoch 7/100\n",
      "240/240 [==============================] - 25s 103ms/step - loss: 1.5256 - acc: 0.5857 - val_loss: 1.5406 - val_acc: 0.5820 - lr: 0.0010\n",
      "Epoch 8/100\n",
      "240/240 [==============================] - 24s 101ms/step - loss: 1.3763 - acc: 0.6301 - val_loss: 1.6012 - val_acc: 0.5730 - lr: 0.0010\n",
      "Epoch 9/100\n",
      "240/240 [==============================] - 25s 104ms/step - loss: 1.2719 - acc: 0.6582 - val_loss: 1.3198 - val_acc: 0.6510 - lr: 0.0010\n",
      "Epoch 10/100\n",
      "240/240 [==============================] - 25s 104ms/step - loss: 1.1787 - acc: 0.6856 - val_loss: 1.5854 - val_acc: 0.6020 - lr: 0.0010\n",
      "Epoch 11/100\n",
      "240/240 [==============================] - 24s 101ms/step - loss: 1.1106 - acc: 0.7013 - val_loss: 1.7868 - val_acc: 0.5560 - lr: 0.0010\n",
      "Epoch 12/100\n",
      "240/240 [==============================] - 25s 103ms/step - loss: 1.0361 - acc: 0.7243 - val_loss: 1.1613 - val_acc: 0.6940 - lr: 0.0010\n",
      "Epoch 13/100\n",
      "240/240 [==============================] - 25s 104ms/step - loss: 0.9446 - acc: 0.7533 - val_loss: 1.2723 - val_acc: 0.6740 - lr: 0.0010\n",
      "Epoch 14/100\n",
      "240/240 [==============================] - 25s 105ms/step - loss: 0.9131 - acc: 0.7622 - val_loss: 0.9966 - val_acc: 0.7400 - lr: 0.0010\n",
      "Epoch 15/100\n",
      "240/240 [==============================] - 25s 106ms/step - loss: 0.8804 - acc: 0.7721 - val_loss: 1.0965 - val_acc: 0.7220 - lr: 0.0010\n",
      "Epoch 16/100\n",
      "240/240 [==============================] - 25s 105ms/step - loss: 0.8110 - acc: 0.7951 - val_loss: 1.3730 - val_acc: 0.6680 - lr: 0.0010\n",
      "Epoch 17/100\n",
      "240/240 [==============================] - 26s 106ms/step - loss: 0.7615 - acc: 0.8097 - val_loss: 0.9626 - val_acc: 0.7540 - lr: 0.0010\n",
      "Epoch 18/100\n",
      "240/240 [==============================] - 24s 100ms/step - loss: 0.7440 - acc: 0.8112 - val_loss: 1.3526 - val_acc: 0.6530 - lr: 0.0010\n",
      "Epoch 19/100\n",
      "240/240 [==============================] - 25s 102ms/step - loss: 0.6837 - acc: 0.8240 - val_loss: 1.0206 - val_acc: 0.7550 - lr: 0.0010\n",
      "Epoch 20/100\n",
      "240/240 [==============================] - 24s 100ms/step - loss: 0.6799 - acc: 0.8287 - val_loss: 0.8791 - val_acc: 0.7740 - lr: 0.0010\n",
      "Epoch 21/100\n",
      "240/240 [==============================] - 25s 104ms/step - loss: 0.6309 - acc: 0.8413 - val_loss: 0.9786 - val_acc: 0.7500 - lr: 0.0010\n",
      "Epoch 22/100\n",
      "240/240 [==============================] - 25s 102ms/step - loss: 0.6144 - acc: 0.8495 - val_loss: 0.9092 - val_acc: 0.7640 - lr: 0.0010\n",
      "Epoch 23/100\n",
      "240/240 [==============================] - 25s 102ms/step - loss: 0.6000 - acc: 0.8526 - val_loss: 1.0224 - val_acc: 0.7390 - lr: 0.0010\n",
      "Epoch 24/100\n",
      "240/240 [==============================] - 25s 105ms/step - loss: 0.5551 - acc: 0.8648 - val_loss: 0.9590 - val_acc: 0.7590 - lr: 0.0010\n",
      "Epoch 25/100\n",
      "240/240 [==============================] - ETA: 0s - loss: 0.5239 - acc: 0.8730\n",
      "Epoch 25: ReduceLROnPlateau reducing learning rate to 0.00010000000474974513.\n",
      "240/240 [==============================] - 25s 103ms/step - loss: 0.5239 - acc: 0.8730 - val_loss: 0.9164 - val_acc: 0.7790 - lr: 0.0010\n",
      "Epoch 26/100\n",
      "240/240 [==============================] - 25s 103ms/step - loss: 0.3591 - acc: 0.9288 - val_loss: 0.6009 - val_acc: 0.8620 - lr: 1.0000e-04\n",
      "Epoch 27/100\n",
      "240/240 [==============================] - 25s 104ms/step - loss: 0.3030 - acc: 0.9483 - val_loss: 0.6015 - val_acc: 0.8480 - lr: 1.0000e-04\n",
      "Epoch 28/100\n",
      "240/240 [==============================] - 24s 100ms/step - loss: 0.2873 - acc: 0.9528 - val_loss: 0.5898 - val_acc: 0.8610 - lr: 1.0000e-04\n",
      "Epoch 29/100\n",
      "240/240 [==============================] - 25s 102ms/step - loss: 0.2743 - acc: 0.9552 - val_loss: 0.5937 - val_acc: 0.8680 - lr: 1.0000e-04\n",
      "Epoch 30/100\n",
      "240/240 [==============================] - 25s 103ms/step - loss: 0.2647 - acc: 0.9591 - val_loss: 0.5788 - val_acc: 0.8620 - lr: 1.0000e-04\n",
      "Epoch 31/100\n",
      "240/240 [==============================] - 25s 104ms/step - loss: 0.2597 - acc: 0.9604 - val_loss: 0.5766 - val_acc: 0.8660 - lr: 1.0000e-04\n",
      "Epoch 32/100\n",
      "240/240 [==============================] - 24s 101ms/step - loss: 0.2541 - acc: 0.9603 - val_loss: 0.5641 - val_acc: 0.8720 - lr: 1.0000e-04\n",
      "Epoch 33/100\n",
      "240/240 [==============================] - 25s 104ms/step - loss: 0.2418 - acc: 0.9644 - val_loss: 0.5613 - val_acc: 0.8670 - lr: 1.0000e-04\n",
      "Epoch 34/100\n",
      "240/240 [==============================] - 25s 105ms/step - loss: 0.2393 - acc: 0.9642 - val_loss: 0.5606 - val_acc: 0.8740 - lr: 1.0000e-04\n",
      "Epoch 35/100\n",
      "240/240 [==============================] - 25s 103ms/step - loss: 0.2358 - acc: 0.9645 - val_loss: 0.5705 - val_acc: 0.8670 - lr: 1.0000e-04\n",
      "Epoch 36/100\n",
      "240/240 [==============================] - 25s 105ms/step - loss: 0.2288 - acc: 0.9682 - val_loss: 0.5471 - val_acc: 0.8780 - lr: 1.0000e-04\n",
      "Epoch 37/100\n",
      "240/240 [==============================] - 25s 105ms/step - loss: 0.2158 - acc: 0.9716 - val_loss: 0.5448 - val_acc: 0.8730 - lr: 1.0000e-04\n",
      "Epoch 38/100\n",
      "240/240 [==============================] - 25s 104ms/step - loss: 0.2162 - acc: 0.9721 - val_loss: 0.5571 - val_acc: 0.8730 - lr: 1.0000e-04\n",
      "Epoch 39/100\n",
      "240/240 [==============================] - 25s 105ms/step - loss: 0.2121 - acc: 0.9724 - val_loss: 0.5766 - val_acc: 0.8610 - lr: 1.0000e-04\n",
      "Epoch 40/100\n",
      "240/240 [==============================] - 25s 102ms/step - loss: 0.2070 - acc: 0.9738 - val_loss: 0.5718 - val_acc: 0.8700 - lr: 1.0000e-04\n",
      "Epoch 41/100\n",
      "240/240 [==============================] - 26s 106ms/step - loss: 0.2003 - acc: 0.9772 - val_loss: 0.5135 - val_acc: 0.8830 - lr: 1.0000e-04\n",
      "Epoch 42/100\n",
      "240/240 [==============================] - 25s 106ms/step - loss: 0.1962 - acc: 0.9771 - val_loss: 0.5562 - val_acc: 0.8780 - lr: 1.0000e-04\n",
      "Epoch 43/100\n",
      "240/240 [==============================] - 25s 105ms/step - loss: 0.1980 - acc: 0.9757 - val_loss: 0.5223 - val_acc: 0.8880 - lr: 1.0000e-04\n",
      "Epoch 44/100\n",
      "240/240 [==============================] - 26s 107ms/step - loss: 0.1931 - acc: 0.9776 - val_loss: 0.5339 - val_acc: 0.8830 - lr: 1.0000e-04\n",
      "Epoch 45/100\n",
      "240/240 [==============================] - 25s 103ms/step - loss: 0.1940 - acc: 0.9770 - val_loss: 0.5832 - val_acc: 0.8590 - lr: 1.0000e-04\n",
      "Epoch 46/100\n",
      "240/240 [==============================] - ETA: 0s - loss: 0.1878 - acc: 0.9786\n",
      "Epoch 46: ReduceLROnPlateau reducing learning rate to 1.0000000474974514e-05.\n",
      "240/240 [==============================] - 26s 107ms/step - loss: 0.1878 - acc: 0.9786 - val_loss: 0.5261 - val_acc: 0.8780 - lr: 1.0000e-04\n",
      "Epoch 47/100\n",
      "240/240 [==============================] - 26s 107ms/step - loss: 0.1762 - acc: 0.9836 - val_loss: 0.5264 - val_acc: 0.8740 - lr: 1.0000e-05\n",
      "Epoch 48/100\n",
      "240/240 [==============================] - 25s 103ms/step - loss: 0.1738 - acc: 0.9835 - val_loss: 0.5190 - val_acc: 0.8830 - lr: 1.0000e-05\n",
      "Epoch 49/100\n",
      "240/240 [==============================] - 26s 107ms/step - loss: 0.1722 - acc: 0.9842 - val_loss: 0.5281 - val_acc: 0.8790 - lr: 1.0000e-05\n",
      "Epoch 50/100\n",
      "240/240 [==============================] - 26s 106ms/step - loss: 0.1694 - acc: 0.9849 - val_loss: 0.5274 - val_acc: 0.8820 - lr: 1.0000e-05\n",
      "Epoch 51/100\n",
      "240/240 [==============================] - ETA: 0s - loss: 0.1649 - acc: 0.9858\n",
      "Epoch 51: ReduceLROnPlateau reducing learning rate to 1.0000000656873453e-06.\n",
      "240/240 [==============================] - 26s 108ms/step - loss: 0.1649 - acc: 0.9858 - val_loss: 0.5327 - val_acc: 0.8800 - lr: 1.0000e-05\n",
      "Epoch 51: early stopping\n"
     ]
    }
   ],
   "source": [
    "history = model.fit(\n",
    "    train_generator,\n",
    "    epochs=epochs,\n",
    "    validation_data=val_generator,\n",
    "    validation_steps=val_samples_no // batch_size,\n",
    "    callbacks=[early_stop,reduce_lr],\n",
    "    class_weight=class_weights_dict)\n"
   ]
  },
  {
   "cell_type": "code",
   "execution_count": 13,
   "id": "e02d4712",
   "metadata": {
    "execution": {
     "iopub.execute_input": "2023-05-31T09:29:46.508889Z",
     "iopub.status.busy": "2023-05-31T09:29:46.508512Z",
     "iopub.status.idle": "2023-05-31T09:30:04.107567Z",
     "shell.execute_reply": "2023-05-31T09:30:04.105299Z"
    },
    "papermill": {
     "duration": 18.533961,
     "end_time": "2023-05-31T09:30:04.110163",
     "exception": false,
     "start_time": "2023-05-31T09:29:45.576202",
     "status": "completed"
    },
    "tags": []
   },
   "outputs": [
    {
     "name": "stdout",
     "output_type": "stream",
     "text": [
      "32/32 [==============================] - 4s 41ms/step\n",
      "Accuracy: 88.0\n"
     ]
    }
   ],
   "source": [
    "#obtinerea predictiilor pe datele de validare\n",
    "y_pred = model.predict(X_val_normalized)\n",
    "y_pred_labels = np.argmax(y_pred, axis=1)\n",
    "accuracy = accuracy_score(y_val, y_pred_labels)\n",
    "print(\"Accuracy:\", accuracy*100)\n"
   ]
  },
  {
   "cell_type": "code",
   "execution_count": 14,
   "id": "f104cf38",
   "metadata": {
    "execution": {
     "iopub.execute_input": "2023-05-31T09:30:06.008050Z",
     "iopub.status.busy": "2023-05-31T09:30:06.007690Z",
     "iopub.status.idle": "2023-05-31T09:30:06.015969Z",
     "shell.execute_reply": "2023-05-31T09:30:06.015050Z"
    },
    "papermill": {
     "duration": 0.927198,
     "end_time": "2023-05-31T09:30:06.021227",
     "exception": false,
     "start_time": "2023-05-31T09:30:05.094029",
     "status": "completed"
    },
    "tags": []
   },
   "outputs": [
    {
     "name": "stdout",
     "output_type": "stream",
     "text": [
      "Sample 4: Predicted label: 63, True label: 24\n",
      "Sample 15: Predicted label: 50, True label: 1\n",
      "Sample 16: Predicted label: 60, True label: 53\n",
      "Sample 41: Predicted label: 91, True label: 81\n",
      "Sample 54: Predicted label: 25, True label: 11\n",
      "Sample 57: Predicted label: 1, True label: 15\n",
      "Sample 60: Predicted label: 49, True label: 93\n",
      "Sample 62: Predicted label: 54, True label: 94\n",
      "Sample 63: Predicted label: 26, True label: 88\n",
      "Sample 100: Predicted label: 12, True label: 13\n",
      "Sample 101: Predicted label: 14, True label: 20\n",
      "Sample 104: Predicted label: 74, True label: 46\n",
      "Sample 108: Predicted label: 60, True label: 48\n",
      "Sample 118: Predicted label: 34, True label: 80\n",
      "Sample 125: Predicted label: 91, True label: 81\n",
      "Sample 136: Predicted label: 8, True label: 62\n",
      "Sample 137: Predicted label: 89, True label: 28\n",
      "Sample 156: Predicted label: 90, True label: 91\n",
      "Sample 177: Predicted label: 85, True label: 65\n",
      "Sample 183: Predicted label: 5, True label: 37\n",
      "Sample 184: Predicted label: 52, True label: 38\n",
      "Sample 185: Predicted label: 90, True label: 33\n",
      "Sample 194: Predicted label: 55, True label: 42\n",
      "Sample 196: Predicted label: 91, True label: 81\n",
      "Sample 202: Predicted label: 48, True label: 49\n",
      "Sample 221: Predicted label: 4, True label: 5\n",
      "Sample 224: Predicted label: 38, True label: 39\n",
      "Sample 226: Predicted label: 4, True label: 5\n",
      "Sample 235: Predicted label: 79, True label: 78\n",
      "Sample 236: Predicted label: 75, True label: 90\n",
      "Sample 242: Predicted label: 93, True label: 92\n",
      "Sample 248: Predicted label: 60, True label: 26\n",
      "Sample 255: Predicted label: 5, True label: 4\n",
      "Sample 258: Predicted label: 35, True label: 80\n",
      "Sample 270: Predicted label: 6, True label: 24\n",
      "Sample 294: Predicted label: 87, True label: 43\n",
      "Sample 296: Predicted label: 1, True label: 0\n",
      "Sample 298: Predicted label: 47, True label: 16\n",
      "Sample 299: Predicted label: 91, True label: 34\n",
      "Sample 301: Predicted label: 52, True label: 38\n",
      "Sample 319: Predicted label: 85, True label: 50\n",
      "Sample 320: Predicted label: 0, True label: 11\n",
      "Sample 348: Predicted label: 91, True label: 80\n",
      "Sample 351: Predicted label: 91, True label: 90\n",
      "Sample 359: Predicted label: 45, True label: 14\n",
      "Sample 360: Predicted label: 46, True label: 64\n",
      "Sample 368: Predicted label: 75, True label: 74\n",
      "Sample 369: Predicted label: 49, True label: 7\n",
      "Sample 375: Predicted label: 41, True label: 40\n",
      "Sample 388: Predicted label: 27, True label: 29\n",
      "Sample 410: Predicted label: 44, True label: 56\n",
      "Sample 413: Predicted label: 91, True label: 35\n",
      "Sample 419: Predicted label: 89, True label: 27\n",
      "Sample 429: Predicted label: 79, True label: 78\n",
      "Sample 435: Predicted label: 31, True label: 64\n",
      "Sample 438: Predicted label: 44, True label: 45\n",
      "Sample 440: Predicted label: 92, True label: 88\n",
      "Sample 452: Predicted label: 63, True label: 24\n",
      "Sample 459: Predicted label: 52, True label: 38\n",
      "Sample 462: Predicted label: 90, True label: 85\n",
      "Sample 471: Predicted label: 4, True label: 5\n",
      "Sample 475: Predicted label: 43, True label: 87\n",
      "Sample 480: Predicted label: 39, True label: 14\n",
      "Sample 482: Predicted label: 44, True label: 45\n",
      "Sample 484: Predicted label: 10, True label: 94\n",
      "Sample 495: Predicted label: 76, True label: 77\n",
      "Sample 502: Predicted label: 5, True label: 4\n",
      "Sample 506: Predicted label: 36, True label: 37\n",
      "Sample 512: Predicted label: 14, True label: 61\n",
      "Sample 540: Predicted label: 87, True label: 39\n",
      "Sample 541: Predicted label: 60, True label: 53\n",
      "Sample 557: Predicted label: 91, True label: 71\n",
      "Sample 569: Predicted label: 39, True label: 86\n",
      "Sample 571: Predicted label: 4, True label: 5\n",
      "Sample 576: Predicted label: 30, True label: 95\n",
      "Sample 587: Predicted label: 62, True label: 8\n",
      "Sample 594: Predicted label: 91, True label: 81\n",
      "Sample 596: Predicted label: 25, True label: 88\n",
      "Sample 598: Predicted label: 50, True label: 51\n",
      "Sample 604: Predicted label: 35, True label: 34\n",
      "Sample 605: Predicted label: 89, True label: 37\n",
      "Sample 624: Predicted label: 53, True label: 1\n",
      "Sample 625: Predicted label: 54, True label: 57\n",
      "Sample 642: Predicted label: 87, True label: 38\n",
      "Sample 643: Predicted label: 60, True label: 26\n",
      "Sample 670: Predicted label: 69, True label: 88\n",
      "Sample 695: Predicted label: 83, True label: 49\n",
      "Sample 704: Predicted label: 89, True label: 28\n",
      "Sample 709: Predicted label: 84, True label: 32\n",
      "Sample 736: Predicted label: 25, True label: 15\n",
      "Sample 741: Predicted label: 89, True label: 73\n",
      "Sample 744: Predicted label: 94, True label: 61\n",
      "Sample 749: Predicted label: 81, True label: 90\n",
      "Sample 756: Predicted label: 31, True label: 68\n",
      "Sample 775: Predicted label: 91, True label: 80\n",
      "Sample 801: Predicted label: 1, True label: 88\n",
      "Sample 819: Predicted label: 29, True label: 63\n",
      "Sample 826: Predicted label: 1, True label: 26\n",
      "Sample 833: Predicted label: 29, True label: 25\n",
      "Sample 834: Predicted label: 16, True label: 69\n",
      "Sample 839: Predicted label: 90, True label: 91\n",
      "Sample 841: Predicted label: 29, True label: 37\n",
      "Sample 851: Predicted label: 50, True label: 74\n",
      "Sample 853: Predicted label: 9, True label: 32\n",
      "Sample 873: Predicted label: 39, True label: 86\n",
      "Sample 874: Predicted label: 15, True label: 11\n",
      "Sample 890: Predicted label: 64, True label: 11\n",
      "Sample 894: Predicted label: 82, True label: 10\n",
      "Sample 906: Predicted label: 79, True label: 78\n",
      "Sample 909: Predicted label: 12, True label: 13\n",
      "Sample 930: Predicted label: 4, True label: 5\n",
      "Sample 932: Predicted label: 14, True label: 61\n",
      "Sample 934: Predicted label: 74, True label: 28\n",
      "Sample 938: Predicted label: 48, True label: 14\n",
      "Sample 951: Predicted label: 5, True label: 4\n",
      "Sample 968: Predicted label: 40, True label: 41\n",
      "Sample 970: Predicted label: 4, True label: 5\n",
      "Sample 977: Predicted label: 13, True label: 2\n",
      "Sample 979: Predicted label: 29, True label: 60\n",
      "Sample 981: Predicted label: 58, True label: 84\n"
     ]
    }
   ],
   "source": [
    "misclassified_samples = []\n",
    "for i in range(len(y_val)):\n",
    "    if y_pred_labels[i] != y_val[i]:\n",
    "        misclassified_samples.append((i, y_pred_labels[i], y_val[i]))\n",
    "\n",
    "for sample in misclassified_samples:\n",
    "    index = sample[0]\n",
    "    predicted_label = sample[1]\n",
    "    true_label = sample[2]\n",
    "    print(f\"Sample {index}: Predicted label: {predicted_label}, True label: {true_label}\")\n"
   ]
  },
  {
   "cell_type": "markdown",
   "id": "18c34fc2",
   "metadata": {
    "papermill": {
     "duration": 0.965407,
     "end_time": "2023-05-31T09:30:07.905371",
     "exception": false,
     "start_time": "2023-05-31T09:30:06.939964",
     "status": "completed"
    },
    "tags": []
   },
   "source": [
    "**Obtinem si reprezentam matricea de confuzie**"
   ]
  },
  {
   "cell_type": "code",
   "execution_count": 15,
   "id": "8165c47e",
   "metadata": {
    "execution": {
     "iopub.execute_input": "2023-05-31T09:30:09.795996Z",
     "iopub.status.busy": "2023-05-31T09:30:09.795482Z",
     "iopub.status.idle": "2023-05-31T09:30:25.696161Z",
     "shell.execute_reply": "2023-05-31T09:30:25.695227Z"
    },
    "papermill": {
     "duration": 16.821437,
     "end_time": "2023-05-31T09:30:25.699009",
     "exception": false,
     "start_time": "2023-05-31T09:30:08.877572",
     "status": "completed"
    },
    "tags": []
   },
   "outputs": [
    {
     "data": {
      "image/png": "[encoded data removed]",
      "text/plain": [
       "<Figure size 1000x800 with 2 Axes>"
      ]
     },
     "metadata": {},
     "output_type": "display_data"
    }
   ],
   "source": [
    "cm = confusion_matrix(y_val, y_pred_labels)\n",
    "plt.figure(figsize=(10, 8))\n",
    "sns.heatmap(cm, annot=True, fmt=\"d\", cmap=\"Blues\")\n",
    "plt.xlabel('Predicted Labels')\n",
    "plt.ylabel('True Labels')\n",
    "plt.title('Confusion Matrix')\n",
    "plt.show()"
   ]
  },
  {
   "cell_type": "code",
   "execution_count": 16,
   "id": "c2806ccc",
   "metadata": {
    "execution": {
     "iopub.execute_input": "2023-05-31T09:30:27.607412Z",
     "iopub.status.busy": "2023-05-31T09:30:27.607062Z",
     "iopub.status.idle": "2023-05-31T09:30:32.277040Z",
     "shell.execute_reply": "2023-05-31T09:30:32.276033Z"
    },
    "papermill": {
     "duration": 5.653675,
     "end_time": "2023-05-31T09:30:32.279498",
     "exception": false,
     "start_time": "2023-05-31T09:30:26.625823",
     "status": "completed"
    },
    "tags": []
   },
   "outputs": [
    {
     "name": "stdout",
     "output_type": "stream",
     "text": [
      "219/219 [==============================] - 4s 17ms/step\n"
     ]
    }
   ],
   "source": [
    "sub_pred = model.predict(X_test_normalized)\n",
    "sub_pred_labels = np.argmax(sub_pred, axis=1)\n",
    "submission = test_csv.copy()  \n",
    "submission['Class'] = sub_pred_labels"
   ]
  },
  {
   "cell_type": "code",
   "execution_count": 17,
   "id": "313f5332",
   "metadata": {
    "execution": {
     "iopub.execute_input": "2023-05-31T09:30:34.287412Z",
     "iopub.status.busy": "2023-05-31T09:30:34.287051Z",
     "iopub.status.idle": "2023-05-31T09:30:34.309299Z",
     "shell.execute_reply": "2023-05-31T09:30:34.308451Z"
    },
    "papermill": {
     "duration": 1.05846,
     "end_time": "2023-05-31T09:30:34.311429",
     "exception": false,
     "start_time": "2023-05-31T09:30:33.252969",
     "status": "completed"
    },
    "tags": []
   },
   "outputs": [],
   "source": [
    "submission.to_csv('submission.csv',index = False)"
   ]
  },
  {
   "cell_type": "markdown",
   "id": "1973534f",
   "metadata": {
    "papermill": {
     "duration": 0.926551,
     "end_time": "2023-05-31T09:30:36.222459",
     "exception": false,
     "start_time": "2023-05-31T09:30:35.295908",
     "status": "completed"
    },
    "tags": []
   },
   "source": [
    "**Venim cu o noua idee de optimizare: class_weights - Atribuirea unor ponderi mai mari clasei minoritare face ca modelul să îi acorde mai multă atenție în timpul optimizării, dându-i efectiv mai multă importanță.**"
   ]
  }
 ],
 "metadata": {
  "kernelspec": {
   "display_name": "Python 3",
   "language": "python",
   "name": "python3"
  },
  "language_info": {
   "codemirror_mode": {
    "name": "ipython",
    "version": 3
   },
   "file_extension": ".py",
   "mimetype": "text/x-python",
   "name": "python",
   "nbconvert_exporter": "python",
   "pygments_lexer": "ipython3",
   "version": "3.10.10"
  },
  "papermill": {
   "default_parameters": {},
   "duration": 2104.127031,
   "end_time": "2023-05-31T09:30:40.185810",
   "environment_variables": {},
   "exception": null,
   "input_path": "__notebook__.ipynb",
   "output_path": "__notebook__.ipynb",
   "parameters": {},
   "start_time": "2023-05-31T08:55:36.058779",
   "version": "2.4.0"
  }
 },
 "nbformat": 4,
 "nbformat_minor": 5
}
